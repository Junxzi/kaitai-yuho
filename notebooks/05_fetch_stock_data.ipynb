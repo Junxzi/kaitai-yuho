{
 "cells": [
  {
   "cell_type": "code",
   "execution_count": null,
   "id": "7b4e24f3-85db-48e8-9f68-173e2b40a642",
   "metadata": {},
   "outputs": [],
   "source": [
    "import pandas as pd\n",
    "df = pd.read_csv('../data/processed/cleaned_risk_dataset.csv')"
   ]
  },
  {
   "cell_type": "code",
   "execution_count": null,
   "id": "c0813b66-19f7-42b5-8707-159414b942b0",
   "metadata": {},
   "outputs": [],
   "source": [
    "# 証券コードをゼロパディング + \".T\" を付けて yfinance 用 ticker を作成\n",
    "df[\"ticker\"] = df[\"sec_code\"].astype(str).str[:-1].str.zfill(4) + \".T\"\n",
    "\n",
    "# 返すのは ticker リスト\n",
    "tickers = df[\"ticker\"].tolist()\n",
    "tickers[:5]  # 確認用（先頭5つ）"
   ]
  },
  {
   "cell_type": "code",
   "execution_count": null,
   "id": "33b07353-1ceb-4015-b54e-f7bfde872f24",
   "metadata": {},
   "outputs": [],
   "source": [
    "from stock_price_loader import download_stock_prices\n",
    "# ダウンロード実行\n",
    "download_stock_prices(\n",
    "    tickers=tickers,\n",
    "    start_date=\"2014-04-01\",\n",
    "    end_date=\"2024-12-31\",\n",
    "    interval=\"1mo\",\n",
    "    output_dir=\"../data/external\"\n",
    ")"
   ]
  },
  {
   "cell_type": "code",
   "execution_count": null,
   "id": "13e4dbcd-af92-4991-8a81-2277034e0f31",
   "metadata": {},
   "outputs": [],
   "source": []
  }
 ],
 "metadata": {
  "kernelspec": {
   "display_name": "kaitai-yuho (.venv)",
   "language": "python",
   "name": "kaitai-yuho"
  },
  "language_info": {
   "codemirror_mode": {
    "name": "ipython",
    "version": 3
   },
   "file_extension": ".py",
   "mimetype": "text/x-python",
   "name": "python",
   "nbconvert_exporter": "python",
   "pygments_lexer": "ipython3",
   "version": "3.12.3"
  }
 },
 "nbformat": 4,
 "nbformat_minor": 5
}
