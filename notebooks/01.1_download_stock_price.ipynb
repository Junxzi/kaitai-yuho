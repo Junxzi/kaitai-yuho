{
 "cells": [
  {
   "cell_type": "code",
   "execution_count": 1,
   "id": "09ef7f6b-75c9-44e7-a7b3-4bfb975ab51e",
   "metadata": {},
   "outputs": [],
   "source": [
    "import pandas as pd\n",
    "df = pd.read_csv('../data/processed/cleaned_risk_dataset.csv')"
   ]
  },
  {
   "cell_type": "code",
   "execution_count": 2,
   "id": "90e1633c-71ad-48d1-ab35-9cf7c65bbeb7",
   "metadata": {},
   "outputs": [
    {
     "data": {
      "text/plain": [
       "Unnamed: 0            int64\n",
       "_                     int64\n",
       "doc_id               object\n",
       "date                 object\n",
       "edinet_code          object\n",
       "sec_code              int64\n",
       "filer_name           object\n",
       "risk_text            object\n",
       "cleaned_risk_text    object\n",
       "tokens               object\n",
       "token_str            object\n",
       "dtype: object"
      ]
     },
     "execution_count": 2,
     "metadata": {},
     "output_type": "execute_result"
    }
   ],
   "source": [
    "df.dtypes"
   ]
  },
  {
   "cell_type": "code",
   "execution_count": 3,
   "id": "a327f0cb-790b-4daa-a18f-e26e56d9d92a",
   "metadata": {},
   "outputs": [
    {
     "data": {
      "text/plain": [
       "['8233.T', '7453.T', '8267.T', '9602.T', '3382.T']"
      ]
     },
     "execution_count": 3,
     "metadata": {},
     "output_type": "execute_result"
    }
   ],
   "source": [
    "# 証券コードをゼロパディング + \".T\" を付けて yfinance 用 ticker を作成\n",
    "df[\"ticker\"] = df[\"sec_code\"].astype(str).str[:-1].str.zfill(4) + \".T\"\n",
    "\n",
    "# 返すのは ticker リスト\n",
    "tickers = df[\"ticker\"].tolist()\n",
    "tickers[:5]  # 確認用（先頭5つ）"
   ]
  },
  {
   "cell_type": "code",
   "execution_count": 4,
   "id": "49528a09-edb7-4c14-bfff-3442cefc1b32",
   "metadata": {},
   "outputs": [],
   "source": [
    "import sys\n",
    "import os\n",
    "# src ディレクトリのパスを追加（notebookが1階層下なので、../src）\n",
    "sys.path.append(os.path.abspath(\"../src\"))"
   ]
  },
  {
   "cell_type": "code",
   "execution_count": 6,
   "id": "a06da06b-444c-4223-a59d-0b0e553534b6",
   "metadata": {},
   "outputs": [
    {
     "name": "stderr",
     "output_type": "stream",
     "text": [
      "Downloading stock data: 100%|████████████████████████████████████████████████████████████████| 2193/2193 [08:50<00:00,  4.14it/s]\n"
     ]
    }
   ],
   "source": [
    "from download_stock_prices import download_stock_prices\n",
    "# ダウンロード実行\n",
    "download_stock_prices(\n",
    "    tickers=tickers,\n",
    "    start_date=\"2014-04-01\",\n",
    "    end_date=\"2024-12-31\",\n",
    "    interval=\"1mo\",\n",
    "    output_dir=\"../data/external\"\n",
    ")"
   ]
  },
  {
   "cell_type": "code",
   "execution_count": null,
   "id": "c1f5bc46-5831-471f-be6d-58e7048c159e",
   "metadata": {},
   "outputs": [],
   "source": [
    "import pandas as pd\n",
    "import numpy as np\n",
    "import yfinance as yf\n",
    "import datetime\n",
    "import tqdm.notebook from tqdm\n",
    "import os\n",
    "\n",
    "# --- Configuration ---\n",
    "PARSED_EDINET_PATH = '../'"
   ]
  }
 ],
 "metadata": {
  "kernelspec": {
   "display_name": "kaitai-yuho (.venv)",
   "language": "python",
   "name": "kaitai-yuho"
  },
  "language_info": {
   "codemirror_mode": {
    "name": "ipython",
    "version": 3
   },
   "file_extension": ".py",
   "mimetype": "text/x-python",
   "name": "python",
   "nbconvert_exporter": "python",
   "pygments_lexer": "ipython3",
   "version": "3.12.3"
  }
 },
 "nbformat": 4,
 "nbformat_minor": 5
}
