{
 "cells": [
  {
   "cell_type": "code",
   "execution_count": 1,
   "id": "55b5248b-bbd4-4ad1-b363-df4a0c26040b",
   "metadata": {},
   "outputs": [],
   "source": [
    "import os, sys\n",
    "\n",
    "# 📌 現在 /app/notebooks なので、../ で /app に戻る\n",
    "os.chdir(os.path.abspath(os.path.join(os.getcwd(), \"..\")))\n",
    "sys.path.insert(0, os.getcwd())"
   ]
  },
  {
   "cell_type": "code",
   "execution_count": 2,
   "id": "87d5978f-6fd3-4281-9776-7dcd461350cb",
   "metadata": {},
   "outputs": [
    {
     "ename": "FileNotFoundError",
     "evalue": "[Errno 2] No such file or directory: '../data/nikkei225.txt'",
     "output_type": "error",
     "traceback": [
      "\u001b[0;31m---------------------------------------------------------------------------\u001b[0m",
      "\u001b[0;31mFileNotFoundError\u001b[0m                         Traceback (most recent call last)",
      "Cell \u001b[0;32mIn[2], line 5\u001b[0m\n\u001b[1;32m      1\u001b[0m \u001b[38;5;28;01mimport\u001b[39;00m\u001b[38;5;250m \u001b[39m\u001b[38;5;21;01mpandas\u001b[39;00m\u001b[38;5;250m \u001b[39m\u001b[38;5;28;01mas\u001b[39;00m\u001b[38;5;250m \u001b[39m\u001b[38;5;21;01mpd\u001b[39;00m\n\u001b[1;32m      3\u001b[0m \u001b[38;5;66;03m# 全文データ（ユーザー入力）を再投入し、225銘柄すべてを抽出する\u001b[39;00m\n\u001b[1;32m      4\u001b[0m \u001b[38;5;66;03m# 入力を完全に含めたバージョン（全文を貼り直す）\u001b[39;00m\n\u001b[0;32m----> 5\u001b[0m \u001b[38;5;28;01mwith\u001b[39;00m \u001b[38;5;28;43mopen\u001b[39;49m\u001b[43m(\u001b[49m\u001b[38;5;124;43m\"\u001b[39;49m\u001b[38;5;124;43m../data/nikkei225.txt\u001b[39;49m\u001b[38;5;124;43m\"\u001b[39;49m\u001b[43m,\u001b[49m\u001b[43m \u001b[49m\u001b[38;5;124;43m\"\u001b[39;49m\u001b[38;5;124;43mr\u001b[39;49m\u001b[38;5;124;43m\"\u001b[39;49m\u001b[43m,\u001b[49m\u001b[43m \u001b[49m\u001b[43mencoding\u001b[49m\u001b[38;5;241;43m=\u001b[39;49m\u001b[38;5;124;43m\"\u001b[39;49m\u001b[38;5;124;43mutf-8\u001b[39;49m\u001b[38;5;124;43m\"\u001b[39;49m\u001b[43m)\u001b[49m \u001b[38;5;28;01mas\u001b[39;00m f:\n\u001b[1;32m      6\u001b[0m     text_data \u001b[38;5;241m=\u001b[39m f\u001b[38;5;241m.\u001b[39mread()\n\u001b[1;32m      8\u001b[0m full_text \u001b[38;5;241m=\u001b[39m text_data\n",
      "File \u001b[0;32m/usr/local/lib/python3.10/dist-packages/IPython/core/interactiveshell.py:324\u001b[0m, in \u001b[0;36m_modified_open\u001b[0;34m(file, *args, **kwargs)\u001b[0m\n\u001b[1;32m    317\u001b[0m \u001b[38;5;28;01mif\u001b[39;00m file \u001b[38;5;129;01min\u001b[39;00m {\u001b[38;5;241m0\u001b[39m, \u001b[38;5;241m1\u001b[39m, \u001b[38;5;241m2\u001b[39m}:\n\u001b[1;32m    318\u001b[0m     \u001b[38;5;28;01mraise\u001b[39;00m \u001b[38;5;167;01mValueError\u001b[39;00m(\n\u001b[1;32m    319\u001b[0m         \u001b[38;5;124mf\u001b[39m\u001b[38;5;124m\"\u001b[39m\u001b[38;5;124mIPython won\u001b[39m\u001b[38;5;124m'\u001b[39m\u001b[38;5;124mt let you open fd=\u001b[39m\u001b[38;5;132;01m{\u001b[39;00mfile\u001b[38;5;132;01m}\u001b[39;00m\u001b[38;5;124m by default \u001b[39m\u001b[38;5;124m\"\u001b[39m\n\u001b[1;32m    320\u001b[0m         \u001b[38;5;124m\"\u001b[39m\u001b[38;5;124mas it is likely to crash IPython. If you know what you are doing, \u001b[39m\u001b[38;5;124m\"\u001b[39m\n\u001b[1;32m    321\u001b[0m         \u001b[38;5;124m\"\u001b[39m\u001b[38;5;124myou can use builtins\u001b[39m\u001b[38;5;124m'\u001b[39m\u001b[38;5;124m open.\u001b[39m\u001b[38;5;124m\"\u001b[39m\n\u001b[1;32m    322\u001b[0m     )\n\u001b[0;32m--> 324\u001b[0m \u001b[38;5;28;01mreturn\u001b[39;00m \u001b[43mio_open\u001b[49m\u001b[43m(\u001b[49m\u001b[43mfile\u001b[49m\u001b[43m,\u001b[49m\u001b[43m \u001b[49m\u001b[38;5;241;43m*\u001b[39;49m\u001b[43margs\u001b[49m\u001b[43m,\u001b[49m\u001b[43m \u001b[49m\u001b[38;5;241;43m*\u001b[39;49m\u001b[38;5;241;43m*\u001b[39;49m\u001b[43mkwargs\u001b[49m\u001b[43m)\u001b[49m\n",
      "\u001b[0;31mFileNotFoundError\u001b[0m: [Errno 2] No such file or directory: '../data/nikkei225.txt'"
     ]
    }
   ],
   "source": [
    "import pandas as pd\n",
    "\n",
    "# 全文データ（ユーザー入力）を再投入し、225銘柄すべてを抽出する\n",
    "# 入力を完全に含めたバージョン（全文を貼り直す）\n",
    "with open(\"../data/nikkei225.txt\", \"r\", encoding=\"utf-8\") as f:\n",
    "    text_data = f.read()\n",
    "\n",
    "full_text = text_data\n",
    "\n",
    "# データを処理\n",
    "lines = full_text.strip().split(\"\\n\")\n",
    "records = []\n",
    "industry = None\n",
    "\n",
    "for line in lines:\n",
    "    # 業種の見出しと判断（「コード」が含まれず、タブがない場合）\n",
    "    if '\\t' not in line and 'コード' not in line and line.strip():\n",
    "        industry = line.strip()\n",
    "    elif '\\t' in line and not line.startswith(\"コード\"):\n",
    "        parts = line.strip().split('\\t')\n",
    "        if len(parts) == 3:\n",
    "            code, name, company = parts\n",
    "            records.append((code, name, industry))\n",
    "\n",
    "# データフレームへ変換\n",
    "df_all = pd.DataFrame(records, columns=[\"銘柄コード\", \"銘柄名\", \"業種\"])\n",
    "\n",
    "# データ数を確認（225件期待）\n",
    "num_records = df_all.shape[0]\n",
    "\n",
    "# CSV保存\n",
    "csv_path = \"../data/nikkei225.csv\"\n",
    "df_all.to_csv(csv_path, index=False)"
   ]
  },
  {
   "cell_type": "code",
   "execution_count": 2,
   "id": "a15465ff-9551-4361-b8cf-2c2dcea7183e",
   "metadata": {},
   "outputs": [
    {
     "name": "stdout",
     "output_type": "stream",
     "text": [
      "fetch_log.txt 行数: 10648\n"
     ]
    }
   ],
   "source": [
    "with open(\"../outputs/logs/fetch_log.txt\") as f:\n",
    "    log_count = len(f.readlines())\n",
    "print(f\"fetch_log.txt 行数: {log_count}\")"
   ]
  },
  {
   "cell_type": "code",
   "execution_count": 4,
   "id": "69e6d462-a732-4f55-8567-4794772289b2",
   "metadata": {},
   "outputs": [
    {
     "name": "stdout",
     "output_type": "stream",
     "text": [
      "ZIPファイル数: 10633\n"
     ]
    }
   ],
   "source": [
    "import os\n",
    "zip_count = len([f for f in os.listdir(\"../data/raw_reports\") if f.endswith(\".zip\")])\n",
    "print(f\"ZIPファイル数: {zip_count}\")"
   ]
  },
  {
   "cell_type": "code",
   "execution_count": 6,
   "id": "4e78d13d-83a5-44e5-8886-c978ccef2537",
   "metadata": {},
   "outputs": [
    {
     "name": "stdout",
     "output_type": "stream",
     "text": [
      "fetch_log.txt にあるけど ZIP がない件数: 0\n",
      "例: []\n"
     ]
    }
   ],
   "source": [
    "with open(\"../outputs/logs/fetch_log.txt\") as f:\n",
    "    log_ids = set(line.strip() for line in f)\n",
    "\n",
    "existing_ids = set(f.replace(\".zip\", \"\") for f in os.listdir(\"../data/raw_reports\") if f.endswith(\".zip\"))\n",
    "\n",
    "missing = log_ids - existing_ids\n",
    "print(f\"fetch_log.txt にあるけど ZIP がない件数: {len(missing)}\")\n",
    "print(\"例:\", list(missing)[:5])"
   ]
  },
  {
   "cell_type": "code",
   "execution_count": 7,
   "id": "d04eb291-c88c-4f9e-a5d3-6fb1b6769887",
   "metadata": {},
   "outputs": [],
   "source": [
    "for f in os.listdir(\"../data/raw_reports\"):\n",
    "    if not f.endswith(\".zip\"):\n",
    "        print(\"異常ファイル:\", f)"
   ]
  },
  {
   "cell_type": "code",
   "execution_count": 4,
   "id": "8cfc8f1a-27a3-4df2-816d-31dde0b72185",
   "metadata": {},
   "outputs": [],
   "source": [
    "import pandas as pd\n",
    "df = pd.read_csv(\"data/extracted_reports/S1005876/XBRL_TO_CSV/jpcrp030000-asr-001_E01486-000_2015-03-31_01_2015-06-26.csv\", encoding=\"utf-16\", sep=\"\\t\")"
   ]
  },
  {
   "cell_type": "code",
   "execution_count": 5,
   "id": "c263bf16-1b56-430b-8414-4dbe5fdb6187",
   "metadata": {},
   "outputs": [],
   "source": [
    "risk_rows = df[df[\"項目名\"].str.contains(\"事業等のリスク\", na=False)]"
   ]
  },
  {
   "cell_type": "code",
   "execution_count": 6,
   "id": "2f9783f8-212e-4542-b5dd-207dc51664e5",
   "metadata": {},
   "outputs": [
    {
     "data": {
      "text/html": [
       "<div>\n",
       "<style scoped>\n",
       "    .dataframe tbody tr th:only-of-type {\n",
       "        vertical-align: middle;\n",
       "    }\n",
       "\n",
       "    .dataframe tbody tr th {\n",
       "        vertical-align: top;\n",
       "    }\n",
       "\n",
       "    .dataframe thead th {\n",
       "        text-align: right;\n",
       "    }\n",
       "</style>\n",
       "<table border=\"1\" class=\"dataframe\">\n",
       "  <thead>\n",
       "    <tr style=\"text-align: right;\">\n",
       "      <th></th>\n",
       "      <th>要素ID</th>\n",
       "      <th>項目名</th>\n",
       "      <th>コンテキストID</th>\n",
       "      <th>相対年度</th>\n",
       "      <th>連結・個別</th>\n",
       "      <th>期間・時点</th>\n",
       "      <th>ユニットID</th>\n",
       "      <th>単位</th>\n",
       "      <th>値</th>\n",
       "    </tr>\n",
       "  </thead>\n",
       "  <tbody>\n",
       "    <tr>\n",
       "      <th>1495</th>\n",
       "      <td>jpcrp_cor:BusinessRisksTextBlock</td>\n",
       "      <td>事業等のリスク [テキストブロック]</td>\n",
       "      <td>FilingDateInstant</td>\n",
       "      <td>提出日時点</td>\n",
       "      <td>その他</td>\n",
       "      <td>時点</td>\n",
       "      <td>－</td>\n",
       "      <td>－</td>\n",
       "      <td>４ 【事業等のリスク】当社グループの経営成績、株価及び財務状況等に影響を及ぼす可能性のある...</td>\n",
       "    </tr>\n",
       "  </tbody>\n",
       "</table>\n",
       "</div>"
      ],
      "text/plain": [
       "                                  要素ID                 項目名           コンテキストID  \\\n",
       "1495  jpcrp_cor:BusinessRisksTextBlock  事業等のリスク [テキストブロック]  FilingDateInstant   \n",
       "\n",
       "       相対年度 連結・個別 期間・時点 ユニットID 単位  \\\n",
       "1495  提出日時点   その他    時点      －  －   \n",
       "\n",
       "                                                      値  \n",
       "1495   ４ 【事業等のリスク】当社グループの経営成績、株価及び財務状況等に影響を及ぼす可能性のある...  "
      ]
     },
     "execution_count": 6,
     "metadata": {},
     "output_type": "execute_result"
    }
   ],
   "source": [
    "risk_rows"
   ]
  },
  {
   "cell_type": "code",
   "execution_count": null,
   "id": "d21c754d-00b8-4af9-8932-74cf1bd914f3",
   "metadata": {},
   "outputs": [],
   "source": []
  }
 ],
 "metadata": {
  "kernelspec": {
   "display_name": "Python 3 (ipykernel)",
   "language": "python",
   "name": "python3"
  },
  "language_info": {
   "codemirror_mode": {
    "name": "ipython",
    "version": 3
   },
   "file_extension": ".py",
   "mimetype": "text/x-python",
   "name": "python",
   "nbconvert_exporter": "python",
   "pygments_lexer": "ipython3",
   "version": "3.10.12"
  }
 },
 "nbformat": 4,
 "nbformat_minor": 5
}
